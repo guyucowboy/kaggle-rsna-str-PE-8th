{
 "metadata": {
  "language_info": {
   "codemirror_mode": {
    "name": "ipython",
    "version": 3
   },
   "file_extension": ".py",
   "mimetype": "text/x-python",
   "name": "python",
   "nbconvert_exporter": "python",
   "pygments_lexer": "ipython3",
   "version": "3.8.2-final"
  },
  "orig_nbformat": 2,
  "kernelspec": {
   "name": "python_defaultSpec_1601484372386",
   "display_name": "Python 3.8.2 64-bit"
  }
 },
 "nbformat": 4,
 "nbformat_minor": 2,
 "cells": [
  {
   "cell_type": "markdown",
   "metadata": {},
   "source": [
    "# Inspect postproces for pe_present_on_image -> pe_exam\n",
    "\n",
    "tested by exp010, fold0 validation"
   ]
  },
  {
   "cell_type": "code",
   "execution_count": 2,
   "metadata": {
    "tags": []
   },
   "outputs": [
    {
     "output_type": "stream",
     "name": "stdout",
     "text": "/home/haito/kaggle/rsna-str/workdir\n"
    }
   ],
   "source": [
    "\n",
    "%cd ~/kaggle/rsna-str/workdir"
   ]
  },
  {
   "cell_type": "code",
   "execution_count": 3,
   "metadata": {
    "tags": []
   },
   "outputs": [],
   "source": [
    "\n",
    "\n",
    "import pandas as pd\n",
    "import pickle\n",
    "import numpy as np\n",
    "import matplotlib.pyplot as plt\n",
    "\n",
    "from src.factory import *\n",
    "from src.utils import *"
   ]
  },
  {
   "cell_type": "code",
   "execution_count": 4,
   "metadata": {
    "tags": []
   },
   "outputs": [],
   "source": [
    "DATADIR = Path(\"../input/rsna-str-pulmonary-embolism-detection/\")\n",
    "\n",
    "train = pd.read_csv(DATADIR / \"train.csv\")\n",
    "pre = pd.read_csv(DATADIR / \"split.csv\")\n",
    "train = train.merge(pre, on=\"StudyInstanceUID\")"
   ]
  },
  {
   "cell_type": "code",
   "execution_count": 3,
   "metadata": {},
   "outputs": [],
   "source": []
  },
  {
   "cell_type": "code",
   "execution_count": 5,
   "metadata": {},
   "outputs": [],
   "source": [
    "t = train[train.fold == 0]"
   ]
  },
  {
   "cell_type": "code",
   "execution_count": 6,
   "metadata": {},
   "outputs": [],
   "source": [
    "studies = t.StudyInstanceUID.unique()\n"
   ]
  },
  {
   "cell_type": "code",
   "execution_count": 7,
   "metadata": {},
   "outputs": [],
   "source": [
    "agg = t.groupby(\"StudyInstanceUID\")[\"SOPInstanceUID\"].apply(list)\n",
    "agg_one = t.groupby(\"StudyInstanceUID\").first()"
   ]
  },
  {
   "cell_type": "code",
   "execution_count": 8,
   "metadata": {},
   "outputs": [],
   "source": [
    "def post1(p_arr, q=90):\n",
    "    return np.percentile(p_arr, q=q)"
   ]
  },
  {
   "cell_type": "code",
   "execution_count": 9,
   "metadata": {},
   "outputs": [],
   "source": [
    "from sklearn.metrics import log_loss"
   ]
  },
  {
   "cell_type": "code",
   "execution_count": 90,
   "metadata": {},
   "outputs": [],
   "source": [
    "### exp 010\n",
    "p = \"output/010_pe_pos/out.valid.fold0\"  # ep0\n",
    "# p = \"output/010_pe_pos/out.valid.fold0_ep1\"\n",
    "\n",
    "res = load_pickle(p)\n",
    "\n",
    "raw_pred = pd.DataFrame({\n",
    "    \"sop\": res[\"ids\"],\n",
    "    \"pe_present_on_image\": res[\"outputs\"][\"pe_present_on_image\"],\n",
    "    \"rightsided_pe\": res[\"outputs\"][\"rightsided_pe\"],\n",
    "    \"leftsided_pe\": res[\"outputs\"][\"leftsided_pe\"],\n",
    "    \"central_pe\": res[\"outputs\"][\"central_pe\"],\n",
    "})\n",
    "raw_pred = raw_pred.set_index(\"sop\")\n",
    "\n",
    "### \n",
    "def get_pred(_path):\n",
    "    res = load_pickle(_path)\n",
    "    raw_pred = pd.DataFrame({\n",
    "        \"sop\": res[\"ids\"],\n",
    "        \"pe_present\": res[\"outputs\"][\"pe_present_on_image\"]  # 010 or later\n",
    "    })\n",
    "    return raw_pred.set_index(\"sop\")\n",
    "\n",
    "raw_pred_010ep0 = get_pred(\"output/010_pe_pos/out.valid.fold0\")\n",
    "raw_pred_010ep1 = get_pred(\"output/010_pe_pos/out.valid.fold0_ep1\")\n",
    "raw_pred_031tune_ep2 = get_pred(\"output/031_pe_present___oversample___tune/valid.fold0-ep2.pickle\")\n",
    "raw_pred_035ep1 = get_pred(\"output/035_pe_present___448/valid.fold0-ep1.picle\")"
   ]
  },
  {
   "cell_type": "markdown",
   "metadata": {},
   "source": []
  },
  {
   "cell_type": "code",
   "execution_count": 91,
   "metadata": {},
   "outputs": [],
   "source": [
    "# 001\n",
    "_path = \"output/001_base/fold0_valid.pickle\"\n",
    "res = load_pickle(_path)\n",
    "raw_pred = pd.DataFrame({\n",
    "    \"sop\": res[\"ids\"],\n",
    "    \"pe_present\": res[\"outputs\"]\n",
    "})\n",
    "raw_pred = raw_pred.set_index(\"sop\")"
   ]
  },
  {
   "cell_type": "code",
   "execution_count": null,
   "metadata": {},
   "outputs": [],
   "source": [
    "\"\"\" exp 001 model (ep1)\n",
    "q=90.00 logloss:0.4335881782152035\n",
    "q=91.00 logloss:0.4261582133852183\n",
    "q=92.00 logloss:0.41820680933855464\n",
    "q=93.00 logloss:0.40965706920377787\n",
    "q=94.00 logloss:0.40250102547323763\n",
    "q=95.00 logloss:0.399617003382453   <=== たまたま Best\n",
    "q=96.00 logloss:0.4014378415196566\n",
    "q=97.00 logloss:0.40659142078878496\n",
    "q=98.00 logloss:0.4293089602081556\n",
    "q=99.00 logloss:0.4881203309768597\n",
    "\"\"\""
   ]
  },
  {
   "cell_type": "code",
   "execution_count": null,
   "metadata": {},
   "outputs": [],
   "source": [
    "\"\"\" exp 010 model (ep0)\n",
    "q=90 logloss:0.580963053992852\n",
    "q=91 logloss:0.5561516892147172\n",
    "q=92 logloss:0.5302883445027334\n",
    "q=93 logloss:0.5057102176781858\n",
    "q=94 logloss:0.48133613115138896\n",
    "q=95 logloss:0.4547570238934727   <=========== Bad\n",
    "q=96 logloss:0.4293633715604374\n",
    "q=97 logloss:0.40440298977917516\n",
    "q=98 logloss:0.383646086091538\n",
    "q=98.80 logloss:0.37546814335089845\n",
    "q=98.90 logloss:0.3744332339894111   <=========== Mininum for fold0\n",
    "q=99.00 logloss:0.3745150839621268\n",
    "q=99 logloss:0.374515083962127\n",
    "q=99.10 logloss:0.3755236864711825\n",
    "q=99.20 logloss:0.3776048971290255\n",
    "q=99.5 logloss:0.389937762524077\n",
    "q=99.7 logloss:0.40671684673171016\n",
    "q=99.9 logloss:0.43696034136869655\n",
    "q=99.95 logloss:0.44722869414163663\n",
    "q=99.99 logloss:0.4569151069554547\n",
    "\"\"\""
   ]
  },
  {
   "cell_type": "code",
   "execution_count": null,
   "metadata": {},
   "outputs": [],
   "source": [
    "\"\"\" exp 010 model (ep1)\n",
    "q=90.00 logloss:0.5279595949554328\n",
    "q=91.00 logloss:0.5052608242921037\n",
    "q=92.00 logloss:0.4834110695747726\n",
    "q=93.00 logloss:0.46385352130528656\n",
    "q=94.00 logloss:0.4473139354706962\n",
    "q=95.00 logloss:0.43102377556895444\n",
    "q=96.00 logloss:0.41591824329556415\n",
    "q=97.00 logloss:0.40408809195191403   <================ Best. epが進むほど最適なpercentilがさがる. epが進むとOver-confになるからだと思われる. exp001,best 0.3996\n",
    "q=98.00 logloss:0.4081253578858078\n",
    "q=99.00 logloss:0.4430865048629079\n",
    "\"\"\""
   ]
  },
  {
   "cell_type": "code",
   "execution_count": 80,
   "metadata": {},
   "outputs": [],
   "source": [
    "F = 3.8250639579850194  # for exp001ep1\n",
    "def calib_p(arr, factor=F):  # set factor>1 to enhance positive prob\n",
    "    return arr * factor / (arr * factor + (1-arr))"
   ]
  },
  {
   "cell_type": "code",
   "execution_count": null,
   "metadata": {},
   "outputs": [],
   "source": [
    "\"\"\"\n",
    "calib後の po_exam推定\n",
    "\n",
    "calibなし, best\n",
    "q=95.00 logloss:0.399617003382453\n",
    "\n",
    "\n",
    "q=60.00 logloss:0.698643776447078\n",
    "q=63.00 logloss:0.6365354999541909\n",
    "q=66.00 logloss:0.5879396129561644\n",
    "q=69.00 logloss:0.5459351137856083\n",
    "q=72.00 logloss:0.51321447134653\n",
    "q=75.00 logloss:0.4869159619202598\n",
    "q=78.00 logloss:0.46734739184806373\n",
    "q=81.00 logloss:0.45602309782309475\n",
    "q=84.00 logloss:0.4533383621932218   <=== Bad\n",
    "q=87.00 logloss:0.46169121075914676\n",
    "q=90.00 logloss:0.4797557469032024\n",
    "q=93.00 logloss:0.5235644453652069\n",
    "q=96.00 logloss:0.6101237719455836\n",
    "q=99.00 logloss:0.8752916874879507\n",
    "\n",
    "そもそもN-percentileがよくなさそうではある\n",
    "\"\"\""
   ]
  },
  {
   "cell_type": "code",
   "execution_count": 68,
   "metadata": {},
   "outputs": [],
   "source": [
    "# ナイーブな後処理\n",
    "# いくつかパターンためしたがどれもだめ\n",
    "def post2_prob_pos(p_pe_arr, q=1.0):\n",
    "    p_pe_arr = np.sort(p_pe_arr.values)[int(len(p_pe_arr)*0.7):]\n",
    "    length = len(p_pe_arr)\n",
    "    \"\"\"q : [0,1] \"\"\"\n",
    "    neg_prob = 1.0\n",
    "    for p in p_pe_arr:\n",
    "        neg_prob *= np.power((1-p), 60 / length)\n",
    "    return 1 - neg_prob"
   ]
  },
  {
   "cell_type": "code",
   "execution_count": 70,
   "metadata": {
    "tags": []
   },
   "outputs": [
    {
     "output_type": "stream",
     "name": "stdout",
     "text": "mean 0.28603941213300405\n"
    },
    {
     "output_type": "display_data",
     "data": {
      "text/plain": "<Figure size 432x288 with 1 Axes>",
      "image/svg+xml": "<?xml version=\"1.0\" encoding=\"utf-8\" standalone=\"no\"?>\n<!DOCTYPE svg PUBLIC \"-//W3C//DTD SVG 1.1//EN\"\n  \"http://www.w3.org/Graphics/SVG/1.1/DTD/svg11.dtd\">\n<!-- Created with matplotlib (https://matplotlib.org/) -->\n<svg height=\"248.518125pt\" version=\"1.1\" viewBox=\"0 0 375.2875 248.518125\" width=\"375.2875pt\" xmlns=\"http://www.w3.org/2000/svg\" xmlns:xlink=\"http://www.w3.org/1999/xlink\">\n <defs>\n  <style type=\"text/css\">\n*{stroke-linecap:butt;stroke-linejoin:round;}\n  </style>\n </defs>\n <g id=\"figure_1\">\n  <g id=\"patch_1\">\n   <path d=\"M 0 248.518125 \nL 375.2875 248.518125 \nL 375.2875 0 \nL 0 0 \nz\n\" style=\"fill:none;\"/>\n  </g>\n  <g id=\"axes_1\">\n   <g id=\"patch_2\">\n    <path d=\"M 33.2875 224.64 \nL 368.0875 224.64 \nL 368.0875 7.2 \nL 33.2875 7.2 \nz\n\" style=\"fill:#ffffff;\"/>\n   </g>\n   <g id=\"patch_3\">\n    <path clip-path=\"url(#pb1fd82772b)\" d=\"M 48.505682 224.64 \nL 54.592955 224.64 \nL 54.592955 68.589628 \nL 48.505682 68.589628 \nz\n\" style=\"fill:#1f77b4;\"/>\n   </g>\n   <g id=\"patch_4\">\n    <path clip-path=\"url(#pb1fd82772b)\" d=\"M 54.592955 224.64 \nL 60.680227 224.64 \nL 60.680227 17.554286 \nL 54.592955 17.554286 \nz\n\" style=\"fill:#1f77b4;\"/>\n   </g>\n   <g id=\"patch_5\">\n    <path clip-path=\"url(#pb1fd82772b)\" d=\"M 60.680227 224.64 \nL 66.7675 224.64 \nL 66.7675 86.255708 \nL 60.680227 86.255708 \nz\n\" style=\"fill:#1f77b4;\"/>\n   </g>\n   <g id=\"patch_6\">\n    <path clip-path=\"url(#pb1fd82772b)\" d=\"M 66.7675 224.64 \nL 72.854773 224.64 \nL 72.854773 119.62497 \nL 66.7675 119.62497 \nz\n\" style=\"fill:#1f77b4;\"/>\n   </g>\n   <g id=\"patch_7\">\n    <path clip-path=\"url(#pb1fd82772b)\" d=\"M 72.854773 224.64 \nL 78.942045 224.64 \nL 78.942045 150.049885 \nL 72.854773 150.049885 \nz\n\" style=\"fill:#1f77b4;\"/>\n   </g>\n   <g id=\"patch_8\">\n    <path clip-path=\"url(#pb1fd82772b)\" d=\"M 78.942045 224.64 \nL 85.029318 224.64 \nL 85.029318 176.549005 \nL 78.942045 176.549005 \nz\n\" style=\"fill:#1f77b4;\"/>\n   </g>\n   <g id=\"patch_9\">\n    <path clip-path=\"url(#pb1fd82772b)\" d=\"M 85.029318 224.64 \nL 91.116591 224.64 \nL 91.116591 176.549005 \nL 85.029318 176.549005 \nz\n\" style=\"fill:#1f77b4;\"/>\n   </g>\n   <g id=\"patch_10\">\n    <path clip-path=\"url(#pb1fd82772b)\" d=\"M 91.116591 224.64 \nL 97.203864 224.64 \nL 97.203864 192.252187 \nL 91.116591 192.252187 \nz\n\" style=\"fill:#1f77b4;\"/>\n   </g>\n   <g id=\"patch_11\">\n    <path clip-path=\"url(#pb1fd82772b)\" d=\"M 97.203864 224.64 \nL 103.291136 224.64 \nL 103.291136 186.363494 \nL 97.203864 186.363494 \nz\n\" style=\"fill:#1f77b4;\"/>\n   </g>\n   <g id=\"patch_12\">\n    <path clip-path=\"url(#pb1fd82772b)\" d=\"M 103.291136 224.64 \nL 109.378409 224.64 \nL 109.378409 192.252187 \nL 103.291136 192.252187 \nz\n\" style=\"fill:#1f77b4;\"/>\n   </g>\n   <g id=\"patch_13\">\n    <path clip-path=\"url(#pb1fd82772b)\" d=\"M 109.378409 224.64 \nL 115.465682 224.64 \nL 115.465682 195.196534 \nL 109.378409 195.196534 \nz\n\" style=\"fill:#1f77b4;\"/>\n   </g>\n   <g id=\"patch_14\">\n    <path clip-path=\"url(#pb1fd82772b)\" d=\"M 115.465682 224.64 \nL 121.552955 224.64 \nL 121.552955 197.159431 \nL 115.465682 197.159431 \nz\n\" style=\"fill:#1f77b4;\"/>\n   </g>\n   <g id=\"patch_15\">\n    <path clip-path=\"url(#pb1fd82772b)\" d=\"M 121.552955 224.64 \nL 127.640227 224.64 \nL 127.640227 205.992471 \nL 121.552955 205.992471 \nz\n\" style=\"fill:#1f77b4;\"/>\n   </g>\n   <g id=\"patch_16\">\n    <path clip-path=\"url(#pb1fd82772b)\" d=\"M 127.640227 224.64 \nL 133.7275 224.64 \nL 133.7275 205.992471 \nL 127.640227 205.992471 \nz\n\" style=\"fill:#1f77b4;\"/>\n   </g>\n   <g id=\"patch_17\">\n    <path clip-path=\"url(#pb1fd82772b)\" d=\"M 133.7275 224.64 \nL 139.814773 224.64 \nL 139.814773 206.97392 \nL 133.7275 206.97392 \nz\n\" style=\"fill:#1f77b4;\"/>\n   </g>\n   <g id=\"patch_18\">\n    <path clip-path=\"url(#pb1fd82772b)\" d=\"M 139.814773 224.64 \nL 145.902045 224.64 \nL 145.902045 204.029573 \nL 139.814773 204.029573 \nz\n\" style=\"fill:#1f77b4;\"/>\n   </g>\n   <g id=\"patch_19\">\n    <path clip-path=\"url(#pb1fd82772b)\" d=\"M 145.902045 224.64 \nL 151.989318 224.64 \nL 151.989318 214.825511 \nL 145.902045 214.825511 \nz\n\" style=\"fill:#1f77b4;\"/>\n   </g>\n   <g id=\"patch_20\">\n    <path clip-path=\"url(#pb1fd82772b)\" d=\"M 151.989318 224.64 \nL 158.076591 224.64 \nL 158.076591 209.918267 \nL 151.989318 209.918267 \nz\n\" style=\"fill:#1f77b4;\"/>\n   </g>\n   <g id=\"patch_21\">\n    <path clip-path=\"url(#pb1fd82772b)\" d=\"M 158.076591 224.64 \nL 164.163864 224.64 \nL 164.163864 210.899716 \nL 158.076591 210.899716 \nz\n\" style=\"fill:#1f77b4;\"/>\n   </g>\n   <g id=\"patch_22\">\n    <path clip-path=\"url(#pb1fd82772b)\" d=\"M 164.163864 224.64 \nL 170.251136 224.64 \nL 170.251136 215.80696 \nL 164.163864 215.80696 \nz\n\" style=\"fill:#1f77b4;\"/>\n   </g>\n   <g id=\"patch_23\">\n    <path clip-path=\"url(#pb1fd82772b)\" d=\"M 170.251136 224.64 \nL 176.338409 224.64 \nL 176.338409 215.80696 \nL 170.251136 215.80696 \nz\n\" style=\"fill:#1f77b4;\"/>\n   </g>\n   <g id=\"patch_24\">\n    <path clip-path=\"url(#pb1fd82772b)\" d=\"M 176.338409 224.64 \nL 182.425682 224.64 \nL 182.425682 216.788409 \nL 176.338409 216.788409 \nz\n\" style=\"fill:#1f77b4;\"/>\n   </g>\n   <g id=\"patch_25\">\n    <path clip-path=\"url(#pb1fd82772b)\" d=\"M 182.425682 224.64 \nL 188.512955 224.64 \nL 188.512955 209.918267 \nL 182.425682 209.918267 \nz\n\" style=\"fill:#1f77b4;\"/>\n   </g>\n   <g id=\"patch_26\">\n    <path clip-path=\"url(#pb1fd82772b)\" d=\"M 188.512955 224.64 \nL 194.600227 224.64 \nL 194.600227 212.862613 \nL 188.512955 212.862613 \nz\n\" style=\"fill:#1f77b4;\"/>\n   </g>\n   <g id=\"patch_27\">\n    <path clip-path=\"url(#pb1fd82772b)\" d=\"M 194.600227 224.64 \nL 200.6875 224.64 \nL 200.6875 218.751307 \nL 194.600227 218.751307 \nz\n\" style=\"fill:#1f77b4;\"/>\n   </g>\n   <g id=\"patch_28\">\n    <path clip-path=\"url(#pb1fd82772b)\" d=\"M 200.6875 224.64 \nL 206.774773 224.64 \nL 206.774773 218.751307 \nL 200.6875 218.751307 \nz\n\" style=\"fill:#1f77b4;\"/>\n   </g>\n   <g id=\"patch_29\">\n    <path clip-path=\"url(#pb1fd82772b)\" d=\"M 206.774773 224.64 \nL 212.862045 224.64 \nL 212.862045 216.788409 \nL 206.774773 216.788409 \nz\n\" style=\"fill:#1f77b4;\"/>\n   </g>\n   <g id=\"patch_30\">\n    <path clip-path=\"url(#pb1fd82772b)\" d=\"M 212.862045 224.64 \nL 218.949318 224.64 \nL 218.949318 216.788409 \nL 212.862045 216.788409 \nz\n\" style=\"fill:#1f77b4;\"/>\n   </g>\n   <g id=\"patch_31\">\n    <path clip-path=\"url(#pb1fd82772b)\" d=\"M 218.949318 224.64 \nL 225.036591 224.64 \nL 225.036591 212.862613 \nL 218.949318 212.862613 \nz\n\" style=\"fill:#1f77b4;\"/>\n   </g>\n   <g id=\"patch_32\">\n    <path clip-path=\"url(#pb1fd82772b)\" d=\"M 225.036591 224.64 \nL 231.123864 224.64 \nL 231.123864 215.80696 \nL 225.036591 215.80696 \nz\n\" style=\"fill:#1f77b4;\"/>\n   </g>\n   <g id=\"patch_33\">\n    <path clip-path=\"url(#pb1fd82772b)\" d=\"M 231.123864 224.64 \nL 237.211136 224.64 \nL 237.211136 221.695653 \nL 231.123864 221.695653 \nz\n\" style=\"fill:#1f77b4;\"/>\n   </g>\n   <g id=\"patch_34\">\n    <path clip-path=\"url(#pb1fd82772b)\" d=\"M 237.211136 224.64 \nL 243.298409 224.64 \nL 243.298409 219.732756 \nL 237.211136 219.732756 \nz\n\" style=\"fill:#1f77b4;\"/>\n   </g>\n   <g id=\"patch_35\">\n    <path clip-path=\"url(#pb1fd82772b)\" d=\"M 243.298409 224.64 \nL 249.385682 224.64 \nL 249.385682 221.695653 \nL 243.298409 221.695653 \nz\n\" style=\"fill:#1f77b4;\"/>\n   </g>\n   <g id=\"patch_36\">\n    <path clip-path=\"url(#pb1fd82772b)\" d=\"M 249.385682 224.64 \nL 255.472955 224.64 \nL 255.472955 217.769858 \nL 249.385682 217.769858 \nz\n\" style=\"fill:#1f77b4;\"/>\n   </g>\n   <g id=\"patch_37\">\n    <path clip-path=\"url(#pb1fd82772b)\" d=\"M 255.472955 224.64 \nL 261.560227 224.64 \nL 261.560227 216.788409 \nL 255.472955 216.788409 \nz\n\" style=\"fill:#1f77b4;\"/>\n   </g>\n   <g id=\"patch_38\">\n    <path clip-path=\"url(#pb1fd82772b)\" d=\"M 261.560227 224.64 \nL 267.6475 224.64 \nL 267.6475 221.695653 \nL 261.560227 221.695653 \nz\n\" style=\"fill:#1f77b4;\"/>\n   </g>\n   <g id=\"patch_39\">\n    <path clip-path=\"url(#pb1fd82772b)\" d=\"M 267.6475 224.64 \nL 273.734773 224.64 \nL 273.734773 219.732756 \nL 267.6475 219.732756 \nz\n\" style=\"fill:#1f77b4;\"/>\n   </g>\n   <g id=\"patch_40\">\n    <path clip-path=\"url(#pb1fd82772b)\" d=\"M 273.734773 224.64 \nL 279.822045 224.64 \nL 279.822045 216.788409 \nL 273.734773 216.788409 \nz\n\" style=\"fill:#1f77b4;\"/>\n   </g>\n   <g id=\"patch_41\">\n    <path clip-path=\"url(#pb1fd82772b)\" d=\"M 279.822045 224.64 \nL 285.909318 224.64 \nL 285.909318 221.695653 \nL 279.822045 221.695653 \nz\n\" style=\"fill:#1f77b4;\"/>\n   </g>\n   <g id=\"patch_42\">\n    <path clip-path=\"url(#pb1fd82772b)\" d=\"M 285.909318 224.64 \nL 291.996591 224.64 \nL 291.996591 217.769858 \nL 285.909318 217.769858 \nz\n\" style=\"fill:#1f77b4;\"/>\n   </g>\n   <g id=\"patch_43\">\n    <path clip-path=\"url(#pb1fd82772b)\" d=\"M 291.996591 224.64 \nL 298.083864 224.64 \nL 298.083864 218.751307 \nL 291.996591 218.751307 \nz\n\" style=\"fill:#1f77b4;\"/>\n   </g>\n   <g id=\"patch_44\">\n    <path clip-path=\"url(#pb1fd82772b)\" d=\"M 298.083864 224.64 \nL 304.171136 224.64 \nL 304.171136 216.788409 \nL 298.083864 216.788409 \nz\n\" style=\"fill:#1f77b4;\"/>\n   </g>\n   <g id=\"patch_45\">\n    <path clip-path=\"url(#pb1fd82772b)\" d=\"M 304.171136 224.64 \nL 310.258409 224.64 \nL 310.258409 213.844062 \nL 304.171136 213.844062 \nz\n\" style=\"fill:#1f77b4;\"/>\n   </g>\n   <g id=\"patch_46\">\n    <path clip-path=\"url(#pb1fd82772b)\" d=\"M 310.258409 224.64 \nL 316.345682 224.64 \nL 316.345682 218.751307 \nL 310.258409 218.751307 \nz\n\" style=\"fill:#1f77b4;\"/>\n   </g>\n   <g id=\"patch_47\">\n    <path clip-path=\"url(#pb1fd82772b)\" d=\"M 316.345682 224.64 \nL 322.432955 224.64 \nL 322.432955 221.695653 \nL 316.345682 221.695653 \nz\n\" style=\"fill:#1f77b4;\"/>\n   </g>\n   <g id=\"patch_48\">\n    <path clip-path=\"url(#pb1fd82772b)\" d=\"M 322.432955 224.64 \nL 328.520227 224.64 \nL 328.520227 218.751307 \nL 322.432955 218.751307 \nz\n\" style=\"fill:#1f77b4;\"/>\n   </g>\n   <g id=\"patch_49\">\n    <path clip-path=\"url(#pb1fd82772b)\" d=\"M 328.520227 224.64 \nL 334.6075 224.64 \nL 334.6075 214.825511 \nL 328.520227 214.825511 \nz\n\" style=\"fill:#1f77b4;\"/>\n   </g>\n   <g id=\"patch_50\">\n    <path clip-path=\"url(#pb1fd82772b)\" d=\"M 334.6075 224.64 \nL 340.694773 224.64 \nL 340.694773 209.918267 \nL 334.6075 209.918267 \nz\n\" style=\"fill:#1f77b4;\"/>\n   </g>\n   <g id=\"patch_51\">\n    <path clip-path=\"url(#pb1fd82772b)\" d=\"M 340.694773 224.64 \nL 346.782045 224.64 \nL 346.782045 210.899716 \nL 340.694773 210.899716 \nz\n\" style=\"fill:#1f77b4;\"/>\n   </g>\n   <g id=\"patch_52\">\n    <path clip-path=\"url(#pb1fd82772b)\" d=\"M 346.782045 224.64 \nL 352.869318 224.64 \nL 352.869318 75.45977 \nL 346.782045 75.45977 \nz\n\" style=\"fill:#1f77b4;\"/>\n   </g>\n   <g id=\"matplotlib.axis_1\">\n    <g id=\"xtick_1\">\n     <g id=\"line2d_1\">\n      <defs>\n       <path d=\"M 0 0 \nL 0 3.5 \n\" id=\"mf1846d5af7\" style=\"stroke:#000000;stroke-width:0.8;\"/>\n      </defs>\n      <g>\n       <use style=\"stroke:#000000;stroke-width:0.8;\" x=\"48.441571\" xlink:href=\"#mf1846d5af7\" y=\"224.64\"/>\n      </g>\n     </g>\n     <g id=\"text_1\">\n      <!-- 0.0 -->\n      <defs>\n       <path d=\"M 31.78125 66.40625 \nQ 24.171875 66.40625 20.328125 58.90625 \nQ 16.5 51.421875 16.5 36.375 \nQ 16.5 21.390625 20.328125 13.890625 \nQ 24.171875 6.390625 31.78125 6.390625 \nQ 39.453125 6.390625 43.28125 13.890625 \nQ 47.125 21.390625 47.125 36.375 \nQ 47.125 51.421875 43.28125 58.90625 \nQ 39.453125 66.40625 31.78125 66.40625 \nz\nM 31.78125 74.21875 \nQ 44.046875 74.21875 50.515625 64.515625 \nQ 56.984375 54.828125 56.984375 36.375 \nQ 56.984375 17.96875 50.515625 8.265625 \nQ 44.046875 -1.421875 31.78125 -1.421875 \nQ 19.53125 -1.421875 13.0625 8.265625 \nQ 6.59375 17.96875 6.59375 36.375 \nQ 6.59375 54.828125 13.0625 64.515625 \nQ 19.53125 74.21875 31.78125 74.21875 \nz\n\" id=\"DejaVuSans-48\"/>\n       <path d=\"M 10.6875 12.40625 \nL 21 12.40625 \nL 21 0 \nL 10.6875 0 \nz\n\" id=\"DejaVuSans-46\"/>\n      </defs>\n      <g transform=\"translate(40.490009 239.238437)scale(0.1 -0.1)\">\n       <use xlink:href=\"#DejaVuSans-48\"/>\n       <use x=\"63.623047\" xlink:href=\"#DejaVuSans-46\"/>\n       <use x=\"95.410156\" xlink:href=\"#DejaVuSans-48\"/>\n      </g>\n     </g>\n    </g>\n    <g id=\"xtick_2\">\n     <g id=\"line2d_2\">\n      <g>\n       <use style=\"stroke:#000000;stroke-width:0.8;\" x=\"109.32712\" xlink:href=\"#mf1846d5af7\" y=\"224.64\"/>\n      </g>\n     </g>\n     <g id=\"text_2\">\n      <!-- 0.2 -->\n      <defs>\n       <path d=\"M 19.1875 8.296875 \nL 53.609375 8.296875 \nL 53.609375 0 \nL 7.328125 0 \nL 7.328125 8.296875 \nQ 12.9375 14.109375 22.625 23.890625 \nQ 32.328125 33.6875 34.8125 36.53125 \nQ 39.546875 41.84375 41.421875 45.53125 \nQ 43.3125 49.21875 43.3125 52.78125 \nQ 43.3125 58.59375 39.234375 62.25 \nQ 35.15625 65.921875 28.609375 65.921875 \nQ 23.96875 65.921875 18.8125 64.3125 \nQ 13.671875 62.703125 7.8125 59.421875 \nL 7.8125 69.390625 \nQ 13.765625 71.78125 18.9375 73 \nQ 24.125 74.21875 28.421875 74.21875 \nQ 39.75 74.21875 46.484375 68.546875 \nQ 53.21875 62.890625 53.21875 53.421875 \nQ 53.21875 48.921875 51.53125 44.890625 \nQ 49.859375 40.875 45.40625 35.40625 \nQ 44.1875 33.984375 37.640625 27.21875 \nQ 31.109375 20.453125 19.1875 8.296875 \nz\n\" id=\"DejaVuSans-50\"/>\n      </defs>\n      <g transform=\"translate(101.375558 239.238437)scale(0.1 -0.1)\">\n       <use xlink:href=\"#DejaVuSans-48\"/>\n       <use x=\"63.623047\" xlink:href=\"#DejaVuSans-46\"/>\n       <use x=\"95.410156\" xlink:href=\"#DejaVuSans-50\"/>\n      </g>\n     </g>\n    </g>\n    <g id=\"xtick_3\">\n     <g id=\"line2d_3\">\n      <g>\n       <use style=\"stroke:#000000;stroke-width:0.8;\" x=\"170.21267\" xlink:href=\"#mf1846d5af7\" y=\"224.64\"/>\n      </g>\n     </g>\n     <g id=\"text_3\">\n      <!-- 0.4 -->\n      <defs>\n       <path d=\"M 37.796875 64.3125 \nL 12.890625 25.390625 \nL 37.796875 25.390625 \nz\nM 35.203125 72.90625 \nL 47.609375 72.90625 \nL 47.609375 25.390625 \nL 58.015625 25.390625 \nL 58.015625 17.1875 \nL 47.609375 17.1875 \nL 47.609375 0 \nL 37.796875 0 \nL 37.796875 17.1875 \nL 4.890625 17.1875 \nL 4.890625 26.703125 \nz\n\" id=\"DejaVuSans-52\"/>\n      </defs>\n      <g transform=\"translate(162.261107 239.238437)scale(0.1 -0.1)\">\n       <use xlink:href=\"#DejaVuSans-48\"/>\n       <use x=\"63.623047\" xlink:href=\"#DejaVuSans-46\"/>\n       <use x=\"95.410156\" xlink:href=\"#DejaVuSans-52\"/>\n      </g>\n     </g>\n    </g>\n    <g id=\"xtick_4\">\n     <g id=\"line2d_4\">\n      <g>\n       <use style=\"stroke:#000000;stroke-width:0.8;\" x=\"231.098219\" xlink:href=\"#mf1846d5af7\" y=\"224.64\"/>\n      </g>\n     </g>\n     <g id=\"text_4\">\n      <!-- 0.6 -->\n      <defs>\n       <path d=\"M 33.015625 40.375 \nQ 26.375 40.375 22.484375 35.828125 \nQ 18.609375 31.296875 18.609375 23.390625 \nQ 18.609375 15.53125 22.484375 10.953125 \nQ 26.375 6.390625 33.015625 6.390625 \nQ 39.65625 6.390625 43.53125 10.953125 \nQ 47.40625 15.53125 47.40625 23.390625 \nQ 47.40625 31.296875 43.53125 35.828125 \nQ 39.65625 40.375 33.015625 40.375 \nz\nM 52.59375 71.296875 \nL 52.59375 62.3125 \nQ 48.875 64.0625 45.09375 64.984375 \nQ 41.3125 65.921875 37.59375 65.921875 \nQ 27.828125 65.921875 22.671875 59.328125 \nQ 17.53125 52.734375 16.796875 39.40625 \nQ 19.671875 43.65625 24.015625 45.921875 \nQ 28.375 48.1875 33.59375 48.1875 \nQ 44.578125 48.1875 50.953125 41.515625 \nQ 57.328125 34.859375 57.328125 23.390625 \nQ 57.328125 12.15625 50.6875 5.359375 \nQ 44.046875 -1.421875 33.015625 -1.421875 \nQ 20.359375 -1.421875 13.671875 8.265625 \nQ 6.984375 17.96875 6.984375 36.375 \nQ 6.984375 53.65625 15.1875 63.9375 \nQ 23.390625 74.21875 37.203125 74.21875 \nQ 40.921875 74.21875 44.703125 73.484375 \nQ 48.484375 72.75 52.59375 71.296875 \nz\n\" id=\"DejaVuSans-54\"/>\n      </defs>\n      <g transform=\"translate(223.146657 239.238437)scale(0.1 -0.1)\">\n       <use xlink:href=\"#DejaVuSans-48\"/>\n       <use x=\"63.623047\" xlink:href=\"#DejaVuSans-46\"/>\n       <use x=\"95.410156\" xlink:href=\"#DejaVuSans-54\"/>\n      </g>\n     </g>\n    </g>\n    <g id=\"xtick_5\">\n     <g id=\"line2d_5\">\n      <g>\n       <use style=\"stroke:#000000;stroke-width:0.8;\" x=\"291.983769\" xlink:href=\"#mf1846d5af7\" y=\"224.64\"/>\n      </g>\n     </g>\n     <g id=\"text_5\">\n      <!-- 0.8 -->\n      <defs>\n       <path d=\"M 31.78125 34.625 \nQ 24.75 34.625 20.71875 30.859375 \nQ 16.703125 27.09375 16.703125 20.515625 \nQ 16.703125 13.921875 20.71875 10.15625 \nQ 24.75 6.390625 31.78125 6.390625 \nQ 38.8125 6.390625 42.859375 10.171875 \nQ 46.921875 13.96875 46.921875 20.515625 \nQ 46.921875 27.09375 42.890625 30.859375 \nQ 38.875 34.625 31.78125 34.625 \nz\nM 21.921875 38.8125 \nQ 15.578125 40.375 12.03125 44.71875 \nQ 8.5 49.078125 8.5 55.328125 \nQ 8.5 64.0625 14.71875 69.140625 \nQ 20.953125 74.21875 31.78125 74.21875 \nQ 42.671875 74.21875 48.875 69.140625 \nQ 55.078125 64.0625 55.078125 55.328125 \nQ 55.078125 49.078125 51.53125 44.71875 \nQ 48 40.375 41.703125 38.8125 \nQ 48.828125 37.15625 52.796875 32.3125 \nQ 56.78125 27.484375 56.78125 20.515625 \nQ 56.78125 9.90625 50.3125 4.234375 \nQ 43.84375 -1.421875 31.78125 -1.421875 \nQ 19.734375 -1.421875 13.25 4.234375 \nQ 6.78125 9.90625 6.78125 20.515625 \nQ 6.78125 27.484375 10.78125 32.3125 \nQ 14.796875 37.15625 21.921875 38.8125 \nz\nM 18.3125 54.390625 \nQ 18.3125 48.734375 21.84375 45.5625 \nQ 25.390625 42.390625 31.78125 42.390625 \nQ 38.140625 42.390625 41.71875 45.5625 \nQ 45.3125 48.734375 45.3125 54.390625 \nQ 45.3125 60.0625 41.71875 63.234375 \nQ 38.140625 66.40625 31.78125 66.40625 \nQ 25.390625 66.40625 21.84375 63.234375 \nQ 18.3125 60.0625 18.3125 54.390625 \nz\n\" id=\"DejaVuSans-56\"/>\n      </defs>\n      <g transform=\"translate(284.032206 239.238437)scale(0.1 -0.1)\">\n       <use xlink:href=\"#DejaVuSans-48\"/>\n       <use x=\"63.623047\" xlink:href=\"#DejaVuSans-46\"/>\n       <use x=\"95.410156\" xlink:href=\"#DejaVuSans-56\"/>\n      </g>\n     </g>\n    </g>\n    <g id=\"xtick_6\">\n     <g id=\"line2d_6\">\n      <g>\n       <use style=\"stroke:#000000;stroke-width:0.8;\" x=\"352.869318\" xlink:href=\"#mf1846d5af7\" y=\"224.64\"/>\n      </g>\n     </g>\n     <g id=\"text_6\">\n      <!-- 1.0 -->\n      <defs>\n       <path d=\"M 12.40625 8.296875 \nL 28.515625 8.296875 \nL 28.515625 63.921875 \nL 10.984375 60.40625 \nL 10.984375 69.390625 \nL 28.421875 72.90625 \nL 38.28125 72.90625 \nL 38.28125 8.296875 \nL 54.390625 8.296875 \nL 54.390625 0 \nL 12.40625 0 \nz\n\" id=\"DejaVuSans-49\"/>\n      </defs>\n      <g transform=\"translate(344.917756 239.238437)scale(0.1 -0.1)\">\n       <use xlink:href=\"#DejaVuSans-49\"/>\n       <use x=\"63.623047\" xlink:href=\"#DejaVuSans-46\"/>\n       <use x=\"95.410156\" xlink:href=\"#DejaVuSans-48\"/>\n      </g>\n     </g>\n    </g>\n   </g>\n   <g id=\"matplotlib.axis_2\">\n    <g id=\"ytick_1\">\n     <g id=\"line2d_7\">\n      <defs>\n       <path d=\"M 0 0 \nL -3.5 0 \n\" id=\"m5c0119691f\" style=\"stroke:#000000;stroke-width:0.8;\"/>\n      </defs>\n      <g>\n       <use style=\"stroke:#000000;stroke-width:0.8;\" x=\"33.2875\" xlink:href=\"#m5c0119691f\" y=\"224.64\"/>\n      </g>\n     </g>\n     <g id=\"text_7\">\n      <!-- 0 -->\n      <g transform=\"translate(19.925 228.439219)scale(0.1 -0.1)\">\n       <use xlink:href=\"#DejaVuSans-48\"/>\n      </g>\n     </g>\n    </g>\n    <g id=\"ytick_2\">\n     <g id=\"line2d_8\">\n      <g>\n       <use style=\"stroke:#000000;stroke-width:0.8;\" x=\"33.2875\" xlink:href=\"#m5c0119691f\" y=\"200.103778\"/>\n      </g>\n     </g>\n     <g id=\"text_8\">\n      <!-- 25 -->\n      <defs>\n       <path d=\"M 10.796875 72.90625 \nL 49.515625 72.90625 \nL 49.515625 64.59375 \nL 19.828125 64.59375 \nL 19.828125 46.734375 \nQ 21.96875 47.46875 24.109375 47.828125 \nQ 26.265625 48.1875 28.421875 48.1875 \nQ 40.625 48.1875 47.75 41.5 \nQ 54.890625 34.8125 54.890625 23.390625 \nQ 54.890625 11.625 47.5625 5.09375 \nQ 40.234375 -1.421875 26.90625 -1.421875 \nQ 22.3125 -1.421875 17.546875 -0.640625 \nQ 12.796875 0.140625 7.71875 1.703125 \nL 7.71875 11.625 \nQ 12.109375 9.234375 16.796875 8.0625 \nQ 21.484375 6.890625 26.703125 6.890625 \nQ 35.15625 6.890625 40.078125 11.328125 \nQ 45.015625 15.765625 45.015625 23.390625 \nQ 45.015625 31 40.078125 35.4375 \nQ 35.15625 39.890625 26.703125 39.890625 \nQ 22.75 39.890625 18.8125 39.015625 \nQ 14.890625 38.140625 10.796875 36.28125 \nz\n\" id=\"DejaVuSans-53\"/>\n      </defs>\n      <g transform=\"translate(13.5625 203.902997)scale(0.1 -0.1)\">\n       <use xlink:href=\"#DejaVuSans-50\"/>\n       <use x=\"63.623047\" xlink:href=\"#DejaVuSans-53\"/>\n      </g>\n     </g>\n    </g>\n    <g id=\"ytick_3\">\n     <g id=\"line2d_9\">\n      <g>\n       <use style=\"stroke:#000000;stroke-width:0.8;\" x=\"33.2875\" xlink:href=\"#m5c0119691f\" y=\"175.567556\"/>\n      </g>\n     </g>\n     <g id=\"text_9\">\n      <!-- 50 -->\n      <g transform=\"translate(13.5625 179.366775)scale(0.1 -0.1)\">\n       <use xlink:href=\"#DejaVuSans-53\"/>\n       <use x=\"63.623047\" xlink:href=\"#DejaVuSans-48\"/>\n      </g>\n     </g>\n    </g>\n    <g id=\"ytick_4\">\n     <g id=\"line2d_10\">\n      <g>\n       <use style=\"stroke:#000000;stroke-width:0.8;\" x=\"33.2875\" xlink:href=\"#m5c0119691f\" y=\"151.031334\"/>\n      </g>\n     </g>\n     <g id=\"text_10\">\n      <!-- 75 -->\n      <defs>\n       <path d=\"M 8.203125 72.90625 \nL 55.078125 72.90625 \nL 55.078125 68.703125 \nL 28.609375 0 \nL 18.3125 0 \nL 43.21875 64.59375 \nL 8.203125 64.59375 \nz\n\" id=\"DejaVuSans-55\"/>\n      </defs>\n      <g transform=\"translate(13.5625 154.830553)scale(0.1 -0.1)\">\n       <use xlink:href=\"#DejaVuSans-55\"/>\n       <use x=\"63.623047\" xlink:href=\"#DejaVuSans-53\"/>\n      </g>\n     </g>\n    </g>\n    <g id=\"ytick_5\">\n     <g id=\"line2d_11\">\n      <g>\n       <use style=\"stroke:#000000;stroke-width:0.8;\" x=\"33.2875\" xlink:href=\"#m5c0119691f\" y=\"126.495112\"/>\n      </g>\n     </g>\n     <g id=\"text_11\">\n      <!-- 100 -->\n      <g transform=\"translate(7.2 130.29433)scale(0.1 -0.1)\">\n       <use xlink:href=\"#DejaVuSans-49\"/>\n       <use x=\"63.623047\" xlink:href=\"#DejaVuSans-48\"/>\n       <use x=\"127.246094\" xlink:href=\"#DejaVuSans-48\"/>\n      </g>\n     </g>\n    </g>\n    <g id=\"ytick_6\">\n     <g id=\"line2d_12\">\n      <g>\n       <use style=\"stroke:#000000;stroke-width:0.8;\" x=\"33.2875\" xlink:href=\"#m5c0119691f\" y=\"101.95889\"/>\n      </g>\n     </g>\n     <g id=\"text_12\">\n      <!-- 125 -->\n      <g transform=\"translate(7.2 105.758108)scale(0.1 -0.1)\">\n       <use xlink:href=\"#DejaVuSans-49\"/>\n       <use x=\"63.623047\" xlink:href=\"#DejaVuSans-50\"/>\n       <use x=\"127.246094\" xlink:href=\"#DejaVuSans-53\"/>\n      </g>\n     </g>\n    </g>\n    <g id=\"ytick_7\">\n     <g id=\"line2d_13\">\n      <g>\n       <use style=\"stroke:#000000;stroke-width:0.8;\" x=\"33.2875\" xlink:href=\"#m5c0119691f\" y=\"77.422668\"/>\n      </g>\n     </g>\n     <g id=\"text_13\">\n      <!-- 150 -->\n      <g transform=\"translate(7.2 81.221886)scale(0.1 -0.1)\">\n       <use xlink:href=\"#DejaVuSans-49\"/>\n       <use x=\"63.623047\" xlink:href=\"#DejaVuSans-53\"/>\n       <use x=\"127.246094\" xlink:href=\"#DejaVuSans-48\"/>\n      </g>\n     </g>\n    </g>\n    <g id=\"ytick_8\">\n     <g id=\"line2d_14\">\n      <g>\n       <use style=\"stroke:#000000;stroke-width:0.8;\" x=\"33.2875\" xlink:href=\"#m5c0119691f\" y=\"52.886445\"/>\n      </g>\n     </g>\n     <g id=\"text_14\">\n      <!-- 175 -->\n      <g transform=\"translate(7.2 56.685664)scale(0.1 -0.1)\">\n       <use xlink:href=\"#DejaVuSans-49\"/>\n       <use x=\"63.623047\" xlink:href=\"#DejaVuSans-55\"/>\n       <use x=\"127.246094\" xlink:href=\"#DejaVuSans-53\"/>\n      </g>\n     </g>\n    </g>\n    <g id=\"ytick_9\">\n     <g id=\"line2d_15\">\n      <g>\n       <use style=\"stroke:#000000;stroke-width:0.8;\" x=\"33.2875\" xlink:href=\"#m5c0119691f\" y=\"28.350223\"/>\n      </g>\n     </g>\n     <g id=\"text_15\">\n      <!-- 200 -->\n      <g transform=\"translate(7.2 32.149442)scale(0.1 -0.1)\">\n       <use xlink:href=\"#DejaVuSans-50\"/>\n       <use x=\"63.623047\" xlink:href=\"#DejaVuSans-48\"/>\n       <use x=\"127.246094\" xlink:href=\"#DejaVuSans-48\"/>\n      </g>\n     </g>\n    </g>\n   </g>\n   <g id=\"patch_53\">\n    <path d=\"M 33.2875 224.64 \nL 33.2875 7.2 \n\" style=\"fill:none;stroke:#000000;stroke-linecap:square;stroke-linejoin:miter;stroke-width:0.8;\"/>\n   </g>\n   <g id=\"patch_54\">\n    <path d=\"M 368.0875 224.64 \nL 368.0875 7.2 \n\" style=\"fill:none;stroke:#000000;stroke-linecap:square;stroke-linejoin:miter;stroke-width:0.8;\"/>\n   </g>\n   <g id=\"patch_55\">\n    <path d=\"M 33.2875 224.64 \nL 368.0875 224.64 \n\" style=\"fill:none;stroke:#000000;stroke-linecap:square;stroke-linejoin:miter;stroke-width:0.8;\"/>\n   </g>\n   <g id=\"patch_56\">\n    <path d=\"M 33.2875 7.2 \nL 368.0875 7.2 \n\" style=\"fill:none;stroke:#000000;stroke-linecap:square;stroke-linejoin:miter;stroke-width:0.8;\"/>\n   </g>\n  </g>\n </g>\n <defs>\n  <clipPath id=\"pb1fd82772b\">\n   <rect height=\"217.44\" width=\"334.8\" x=\"33.2875\" y=\"7.2\"/>\n  </clipPath>\n </defs>\n</svg>\n",
      "image/png": "[encoded data removed]"
     },
     "metadata": {
      "needs_background": "light"
     }
    },
    {
     "output_type": "stream",
     "name": "stdout",
     "text": "factor=0.050 logloss:0.4258650505514252\n"
    }
   ],
   "source": [
    "# for factor in [0.01, 0.02, 0.05, 0.1, 0.2, 0.4, 1.0]:\n",
    "# for factor in [0.05]:\n",
    "for _ in [0.05]:\n",
    "\n",
    "    LABELS = []\n",
    "    PREDS = []\n",
    "\n",
    "    for study in t.StudyInstanceUID.unique():\n",
    "        sops = agg.loc[study]\n",
    "        label = agg_one.loc[study]\n",
    "        label_is_pe = int((not label.indeterminate) and (not label.negative_exam_for_pe))\n",
    "        LABELS.append(label_is_pe)\n",
    "\n",
    "        prediction =  raw_pred.loc[sops]  # preds for current study\n",
    "\n",
    "        # pe pre\n",
    "        probs_pe_present = prediction.pe_present\n",
    "        probs_pe_present = calib_p(probs_pe_present)\n",
    "        pe_prob = post2_prob_pos(probs_pe_present, q=0.2)\n",
    "\n",
    "\n",
    "        pe_prob = calib_p(pe_prob, factor=0.02)\n",
    "\n",
    "        PREDS.append(pe_prob)\n",
    "\n",
    "        # break\n",
    "    # break\n",
    "    print( \"mean\", np.mean(PREDS) )\n",
    "\n",
    "    plt.hist(PREDS, bins=50)\n",
    "    plt.show()\n",
    "    print(f\"factor={factor:.3f} logloss:{log_loss(LABELS, PREDS)}\")\n",
    "    break\n"
   ]
  },
  {
   "cell_type": "code",
   "execution_count": null,
   "metadata": {},
   "outputs": [],
   "source": [
    "for q in np.arange(0.00, 0.1, 0.01):\n",
    "    LABELS = []\n",
    "    PREDS = []\n",
    "\n",
    "    for study in t.StudyInstanceUID.unique():\n",
    "        sops = agg.loc[study]\n",
    "        label = agg_one.loc[study]\n",
    "        label_is_pe = int((not label.indeterminate) and (not label.negative_exam_for_pe))\n",
    "        LABELS.append(label_is_pe)\n",
    "\n",
    "        prediction =  raw_pred.loc[sops]  # preds for current study\n",
    "\n",
    "        # pe pre\n",
    "        probs_pe_present = prediction.pe_present\n",
    "        probs_pe_present = calib_p(probs_pe_present)\n",
    "        pe_prob = post2_prob_pos(probs_pe_present, q=q)\n",
    "\n",
    "        print( \"mean\", np.mean(pe_prob) )\n",
    "\n",
    "        pe_prob = calib_p(pe_prob)\n",
    "\n",
    "        PREDS.append(pe_prob)\n",
    "\n",
    "        # break\n",
    "    # break\n",
    "\n",
    "    print(f\"q={q:.3f} logloss:{log_loss(LABELS, PREDS)}\")\n"
   ]
  },
  {
   "cell_type": "code",
   "execution_count": null,
   "metadata": {},
   "outputs": [],
   "source": [
    "\"\"\" \n",
    "calib + percentile のみのくみあわせ === \n",
    "    比較対象 q=95.00 logloss:0.3996\n",
    "\"\"\" "
   ]
  },
  {
   "cell_type": "code",
   "execution_count": 97,
   "metadata": {
    "tags": []
   },
   "outputs": [
    {
     "output_type": "stream",
     "name": "stdout",
     "text": "best, per percnetile:95 calib:1 best_loss 0.399617003382453\nbest, per percnetile:98.0 calib:0.5 best_loss 0.3804158758247496\nbest, per percnetile:99 calib:0.25 best_loss 0.37856055369366365\nbest, per percnetile:99.5 calib:0.25 best_loss 0.38425875684913247\nbest, per percnetile:100 calib:0.125 best_loss 0.3985051085546535\n"
    }
   ],
   "source": [
    "best = np.inf\n",
    "best_set = None\n",
    "\n",
    "# for calib_f in [1/32, 1/16, 1/10, 1/8, 1/6, 1/4, 1/2, 0.75, 1, 1.5, 2, 4]:\n",
    "#     for percentile in [60, 70, 80, 85 ,90, 93, 95, 97, 97.5, 98, 98.5,98.7, 99, 99.3, 99.5, 99.7, 99.9, 100]:\n",
    "# ===> final best: 0.37856055369366365 (0.25, 99)\n",
    "\n",
    "for percentile in [95, 98.0, 99, 99.5, 100]:\n",
    "    best_loss = np.inf\n",
    "    best_set = None\n",
    "    for calib_f in [1/16, 1/8, 1/4, 1/2, 1, 2, 4, 8, 16, 32, 64]:\n",
    "\n",
    "        LABELS = []\n",
    "        PREDS = []\n",
    "\n",
    "        for study in t.StudyInstanceUID.unique():\n",
    "            sops = agg.loc[study]\n",
    "            label = agg_one.loc[study]\n",
    "            label_is_pe = int((not label.indeterminate) and (not label.negative_exam_for_pe))\n",
    "            LABELS.append(label_is_pe)\n",
    "\n",
    "            prediction =  raw_pred.loc[sops]  # preds for current study\n",
    "\n",
    "            # pe pre\n",
    "            probs_pe_present = prediction.pe_present\n",
    "            probs_pe_present = calib_p(probs_pe_present, factor=calib_f)\n",
    "            pe_prob = np.percentile(probs_pe_present, q=percentile)\n",
    "\n",
    "            PREDS.append(pe_prob)\n",
    "        loss_val = log_loss(LABELS, PREDS)\n",
    "\n",
    "        if loss_val < best_loss:\n",
    "            best_loss = loss_val\n",
    "            best_set = (calib_f, percentile)\n",
    "    print(f\"best, per percnetile:{percentile} calib:{best_set[0]} best_loss {best_loss}\")\n"
   ]
  },
  {
   "cell_type": "code",
   "execution_count": 100,
   "metadata": {
    "tags": []
   },
   "outputs": [
    {
     "output_type": "stream",
     "name": "stdout",
     "text": "combined: loss 0.3768648810456305\n"
    }
   ],
   "source": [
    "best = np.inf\n",
    "best_set = None\n",
    "\n",
    "\n",
    "LABELS = []\n",
    "PREDS = []\n",
    "\n",
    "for study in t.StudyInstanceUID.unique():\n",
    "    sops = agg.loc[study]\n",
    "    label = agg_one.loc[study]\n",
    "    label_is_pe = int((not label.indeterminate) and (not label.negative_exam_for_pe))\n",
    "    LABELS.append(label_is_pe)\n",
    "\n",
    "    prediction =  raw_pred.loc[sops]  # preds for current study\n",
    "\n",
    "    # pe pre\n",
    "    probs_pe_present = prediction.pe_present\n",
    "\n",
    "    pe_prob1 = np.percentile(calib_p(probs_pe_present, factor=1/2), q=98)\n",
    "    pe_prob2 = np.percentile(calib_p(probs_pe_present, factor=1/4), q=99)\n",
    "    pe_prob3 = np.percentile(calib_p(probs_pe_present, factor=1/4), q=99.5)\n",
    "\n",
    "    pe_prob = (pe_prob1 + 2 * pe_prob2 + pe_prob3) / 4.0\n",
    "\n",
    "    PREDS.append(pe_prob)\n",
    "loss_val = log_loss(LABELS, PREDS)\n",
    "\n",
    "print(f\"combined: loss {loss_val}\")\n"
   ]
  },
  {
   "cell_type": "code",
   "execution_count": null,
   "metadata": {},
   "outputs": [],
   "source": [
    "\"\"\"\n",
    "Linear Regression する. 結果は悪い. 真ん中 q=99 の重みが一番小さい\n",
    "featureをq=99のみにしてさえ悪い?\n",
    "\n",
    "weight合計を1にしないといけなさそう\n",
    "\"\"\""
   ]
  },
  {
   "cell_type": "code",
   "execution_count": 131,
   "metadata": {
    "tags": []
   },
   "outputs": [
    {
     "output_type": "stream",
     "name": "stdout",
     "text": "[[1.04035578]] [-1.36747889]\nloss 0.3784378614644151\n"
    }
   ],
   "source": [
    "Y = []\n",
    "X = []\n",
    "\n",
    "def prob_to_logit(prob):\n",
    "    return np.log(prob/(1-prob))\n",
    "# Q_ARR = [96, 99, 99.5]\n",
    "Q_ARR = [99]\n",
    "\n",
    "studies_all = t.StudyInstanceUID.unique()\n",
    "studies  = studies_all[: len(studies_all) // 2]\n",
    "\n",
    "# studies2 = studies_all[len(studies_all) // 2:]\n",
    "studies2 = studies_all\n",
    "\n",
    "for study in studies:\n",
    "    sops = agg.loc[study]\n",
    "    label = agg_one.loc[study]\n",
    "    label_is_pe = int((not label.indeterminate) and (not label.negative_exam_for_pe))\n",
    "    Y.append(label_is_pe)\n",
    "\n",
    "    probs_pe_present = raw_pred.loc[sops].pe_present\n",
    "    X.append([prob_to_logit(np.percentile(probs_pe_present, q=q)) for q in Q_ARR])\n",
    "\n",
    "X, Y = np.array(X), np.array(Y)\n",
    "\n",
    "\n",
    "from sklearn.linear_model import LogisticRegression\n",
    "clf = LogisticRegression(random_state=0).fit(X, Y)\n",
    "print(clf.coef_, clf.intercept_)\n",
    "\n",
    "if False:  # 手動設定. これをすると、fold0全体に対してのlossが手動の結果とほぼ一致\n",
    "    clf.coef_ = np.array([[1]])\n",
    "    clf.intercept_ = np.array([ np.log(1/4) ])\n",
    "\n",
    "LABELS = []\n",
    "PREDS = []\n",
    "for study in studies2:\n",
    "    sops = agg.loc[study]\n",
    "    label = agg_one.loc[study]\n",
    "    label_is_pe = int((not label.indeterminate) and (not label.negative_exam_for_pe))\n",
    "    LABELS.append(label_is_pe)\n",
    "\n",
    "    prediction =  raw_pred.loc[sops]  # preds for current study\n",
    "\n",
    "    # pe pre\n",
    "    probs_pe_present = prediction.pe_present\n",
    "    pe_prob = clf.predict_proba([[prob_to_logit(np.percentile(probs_pe_present, q=q)) for q in Q_ARR]])[0]\n",
    "\n",
    "    PREDS.append(pe_prob)\n",
    "loss_val = log_loss(LABELS, PREDS)\n",
    "print(f\"loss {loss_val}\")"
   ]
  },
  {
   "cell_type": "code",
   "execution_count": 109,
   "metadata": {},
   "outputs": [
    {
     "output_type": "execute_result",
     "data": {
      "text/plain": "array([[0.54636552, 0.14539564, 0.32995032]])"
     },
     "metadata": {},
     "execution_count": 109
    }
   ],
   "source": [
    "clf.coef_"
   ]
  },
  {
   "cell_type": "code",
   "execution_count": null,
   "metadata": {},
   "outputs": [],
   "source": [
    "\"\"\" weight 最適化 \"\"\""
   ]
  },
  {
   "cell_type": "code",
   "execution_count": null,
   "metadata": {},
   "outputs": [],
   "source": [
    "\"\"\"\n",
    "Q_ARR = [98, 99, 99.5]に相当するものを 手動でやったとき\n",
    "combined: loss 0.3768648810456305\n",
    "\n",
    "以下でやった時\n",
    "0.376077\n",
    "x: array([ 0.47733139,  0.08806671,  0.29714744, -1.16465475])\n",
    "\n",
    "しかし、そもそもが誤差\n",
    "\"\"\""
   ]
  },
  {
   "cell_type": "code",
   "execution_count": 150,
   "metadata": {
    "tags": []
   },
   "outputs": [
    {
     "output_type": "execute_result",
     "data": {
      "text/plain": " final_simplex: (array([[ 0.53036821,  0.0978519 ,  0.33016382, -1.16465475],\n       [ 0.5303684 ,  0.09785134,  0.33016424, -1.16465485],\n       [ 0.53036847,  0.09785094,  0.33016406, -1.16465466],\n       [ 0.53036894,  0.09785147,  0.33016375, -1.1646544 ],\n       [ 0.53036828,  0.0978516 ,  0.33016405, -1.16465472]]), array([0.37607725, 0.37607725, 0.37607725, 0.37607725, 0.37607725]))\n           fun: 0.3760772490070748\n       message: 'Optimization terminated successfully.'\n          nfev: 227\n           nit: 130\n        status: 0\n       success: True\n             x: array([ 0.53036821,  0.0978519 ,  0.33016382, -1.16465475])"
     },
     "metadata": {},
     "execution_count": 150
    }
   ],
   "source": [
    "def prob_to_logit(prob):\n",
    "    return np.log(prob/(1-prob))\n",
    "def logit_to_prob(logit):\n",
    "    return 1 / (1 + np.exp(- logit))\n",
    "1.3 == prob_to_logit(logit_to_prob(1.3))\n",
    "\n",
    "# Q_ARR = [96, 99, 99.5]\n",
    "Q_ARR = [98, 99, 99.5]\n",
    "Q_LEN = len(Q_ARR)\n",
    "# Q_ARR = [99]\n",
    "\n",
    "studies_all = t.StudyInstanceUID.unique()\n",
    "\n",
    "LABELS = []\n",
    "FEATS_ARR = []\n",
    "for study in studies_all:\n",
    "    sops = agg.loc[study]\n",
    "    label = agg_one.loc[study]\n",
    "    label_is_pe = int((not label.indeterminate) and (not label.negative_exam_for_pe))\n",
    "    LABELS.append(label_is_pe)\n",
    "\n",
    "    probs_pe_present = raw_pred.loc[sops].pe_present\n",
    "    feats = [prob_to_logit(np.percentile(probs_pe_present, q=q)) for q in Q_ARR]\n",
    "    FEATS_ARR.append(feats)\n",
    "\n",
    "def get_score(weight):\n",
    "    # print(\"called\")\n",
    "    PREDS = [] \n",
    "    for i in range(len(studies_all)):\n",
    "        feats = FEATS_ARR[i]\n",
    "        logit = ( np.sum(feats * weight[:Q_LEN]) / np.sum(weight[:Q_LEN]) ) + weight[Q_LEN]\n",
    "        PREDS.append( logit_to_prob(logit) )\n",
    "    return log_loss(LABELS, PREDS)\n",
    "\n",
    "weights = np.array([1/Q_LEN] * Q_LEN + [np.log(1/4)])\n",
    "from scipy.optimize import minimize\n",
    "minimize(get_score, weights,\n",
    "                       args=(),\n",
    "                       method=\"Nelder-Mead\",\n",
    "                       tol=1e-6,\n",
    "                       # options={\"maxiter\": 10}\n",
    "                       )"
   ]
  },
  {
   "cell_type": "code",
   "execution_count": null,
   "metadata": {},
   "outputs": [],
   "source": []
  },
  {
   "cell_type": "code",
   "execution_count": null,
   "metadata": {},
   "outputs": [],
   "source": [
    "\"\"\"\n",
    "Right left central\n",
    "\"\"\""
   ]
  },
  {
   "cell_type": "code",
   "execution_count": 27,
   "metadata": {
    "tags": []
   },
   "outputs": [
    {
     "output_type": "stream",
     "name": "stdout",
     "text": "q=60.00 logloss:0.698643776447078\nq=63.00 logloss:0.6365354999541909\nq=66.00 logloss:0.5879396129561644\nq=69.00 logloss:0.5459351137856083\nq=72.00 logloss:0.51321447134653\nq=75.00 logloss:0.4869159619202598\nq=78.00 logloss:0.46734739184806373\nq=81.00 logloss:0.45602309782309475\nq=84.00 logloss:0.4533383621932218\nq=87.00 logloss:0.46169121075914676\nq=90.00 logloss:0.4797557469032024\nq=93.00 logloss:0.5235644453652069\nq=96.00 logloss:0.6101237719455836\n"
    },
    {
     "output_type": "error",
     "ename": "KeyboardInterrupt",
     "evalue": "",
     "traceback": [
      "\u001b[0;31m---------------------------------------------------------------------------\u001b[0m",
      "\u001b[0;31mKeyboardInterrupt\u001b[0m                         Traceback (most recent call last)",
      "\u001b[0;32m<ipython-input-27-e6a449f94d45>\u001b[0m in \u001b[0;36m<module>\u001b[0;34m\u001b[0m\n\u001b[1;32m     12\u001b[0m \u001b[0;34m\u001b[0m\u001b[0m\n\u001b[1;32m     13\u001b[0m     \u001b[0;32mfor\u001b[0m \u001b[0mstudy\u001b[0m \u001b[0;32min\u001b[0m \u001b[0mt\u001b[0m\u001b[0;34m.\u001b[0m\u001b[0mStudyInstanceUID\u001b[0m\u001b[0;34m.\u001b[0m\u001b[0munique\u001b[0m\u001b[0;34m(\u001b[0m\u001b[0;34m)\u001b[0m\u001b[0;34m:\u001b[0m\u001b[0;34m\u001b[0m\u001b[0;34m\u001b[0m\u001b[0m\n\u001b[0;32m---> 14\u001b[0;31m         \u001b[0msops\u001b[0m \u001b[0;34m=\u001b[0m \u001b[0magg\u001b[0m\u001b[0;34m.\u001b[0m\u001b[0mloc\u001b[0m\u001b[0;34m[\u001b[0m\u001b[0mstudy\u001b[0m\u001b[0;34m]\u001b[0m\u001b[0;34m\u001b[0m\u001b[0;34m\u001b[0m\u001b[0m\n\u001b[0m\u001b[1;32m     15\u001b[0m         \u001b[0mlabel\u001b[0m \u001b[0;34m=\u001b[0m \u001b[0magg_one\u001b[0m\u001b[0;34m.\u001b[0m\u001b[0mloc\u001b[0m\u001b[0;34m[\u001b[0m\u001b[0mstudy\u001b[0m\u001b[0;34m]\u001b[0m\u001b[0;34m\u001b[0m\u001b[0;34m\u001b[0m\u001b[0m\n\u001b[1;32m     16\u001b[0m         \u001b[0mlabel_is_pe\u001b[0m \u001b[0;34m=\u001b[0m \u001b[0mint\u001b[0m\u001b[0;34m(\u001b[0m\u001b[0;34m(\u001b[0m\u001b[0;32mnot\u001b[0m \u001b[0mlabel\u001b[0m\u001b[0;34m.\u001b[0m\u001b[0mindeterminate\u001b[0m\u001b[0;34m)\u001b[0m \u001b[0;32mand\u001b[0m \u001b[0;34m(\u001b[0m\u001b[0;32mnot\u001b[0m \u001b[0mlabel\u001b[0m\u001b[0;34m.\u001b[0m\u001b[0mnegative_exam_for_pe\u001b[0m\u001b[0;34m)\u001b[0m\u001b[0;34m)\u001b[0m\u001b[0;34m\u001b[0m\u001b[0;34m\u001b[0m\u001b[0m\n",
      "\u001b[0;32m~/.local/lib/python3.8/site-packages/pandas/core/indexing.py\u001b[0m in \u001b[0;36m__getitem__\u001b[0;34m(self, key)\u001b[0m\n\u001b[1;32m   1766\u001b[0m \u001b[0;34m\u001b[0m\u001b[0m\n\u001b[1;32m   1767\u001b[0m             \u001b[0mmaybe_callable\u001b[0m \u001b[0;34m=\u001b[0m \u001b[0mcom\u001b[0m\u001b[0;34m.\u001b[0m\u001b[0mapply_if_callable\u001b[0m\u001b[0;34m(\u001b[0m\u001b[0mkey\u001b[0m\u001b[0;34m,\u001b[0m \u001b[0mself\u001b[0m\u001b[0;34m.\u001b[0m\u001b[0mobj\u001b[0m\u001b[0;34m)\u001b[0m\u001b[0;34m\u001b[0m\u001b[0;34m\u001b[0m\u001b[0m\n\u001b[0;32m-> 1768\u001b[0;31m             \u001b[0;32mreturn\u001b[0m \u001b[0mself\u001b[0m\u001b[0;34m.\u001b[0m\u001b[0m_getitem_axis\u001b[0m\u001b[0;34m(\u001b[0m\u001b[0mmaybe_callable\u001b[0m\u001b[0;34m,\u001b[0m \u001b[0maxis\u001b[0m\u001b[0;34m=\u001b[0m\u001b[0maxis\u001b[0m\u001b[0;34m)\u001b[0m\u001b[0;34m\u001b[0m\u001b[0;34m\u001b[0m\u001b[0m\n\u001b[0m\u001b[1;32m   1769\u001b[0m \u001b[0;34m\u001b[0m\u001b[0m\n\u001b[1;32m   1770\u001b[0m     \u001b[0;32mdef\u001b[0m \u001b[0m_is_scalar_access\u001b[0m\u001b[0;34m(\u001b[0m\u001b[0mself\u001b[0m\u001b[0;34m,\u001b[0m \u001b[0mkey\u001b[0m\u001b[0;34m:\u001b[0m \u001b[0mTuple\u001b[0m\u001b[0;34m)\u001b[0m\u001b[0;34m:\u001b[0m\u001b[0;34m\u001b[0m\u001b[0;34m\u001b[0m\u001b[0m\n",
      "\u001b[0;32m~/.local/lib/python3.8/site-packages/pandas/core/indexing.py\u001b[0m in \u001b[0;36m_getitem_axis\u001b[0;34m(self, key, axis)\u001b[0m\n\u001b[1;32m   1963\u001b[0m         \u001b[0;31m# fall thru to straight lookup\u001b[0m\u001b[0;34m\u001b[0m\u001b[0;34m\u001b[0m\u001b[0;34m\u001b[0m\u001b[0m\n\u001b[1;32m   1964\u001b[0m         \u001b[0mself\u001b[0m\u001b[0;34m.\u001b[0m\u001b[0m_validate_key\u001b[0m\u001b[0;34m(\u001b[0m\u001b[0mkey\u001b[0m\u001b[0;34m,\u001b[0m \u001b[0maxis\u001b[0m\u001b[0;34m)\u001b[0m\u001b[0;34m\u001b[0m\u001b[0;34m\u001b[0m\u001b[0m\n\u001b[0;32m-> 1965\u001b[0;31m         \u001b[0;32mreturn\u001b[0m \u001b[0mself\u001b[0m\u001b[0;34m.\u001b[0m\u001b[0m_get_label\u001b[0m\u001b[0;34m(\u001b[0m\u001b[0mkey\u001b[0m\u001b[0;34m,\u001b[0m \u001b[0maxis\u001b[0m\u001b[0;34m=\u001b[0m\u001b[0maxis\u001b[0m\u001b[0;34m)\u001b[0m\u001b[0;34m\u001b[0m\u001b[0;34m\u001b[0m\u001b[0m\n\u001b[0m\u001b[1;32m   1966\u001b[0m \u001b[0;34m\u001b[0m\u001b[0m\n\u001b[1;32m   1967\u001b[0m \u001b[0;34m\u001b[0m\u001b[0m\n",
      "\u001b[0;32m~/.local/lib/python3.8/site-packages/pandas/core/indexing.py\u001b[0m in \u001b[0;36m_get_label\u001b[0;34m(self, label, axis)\u001b[0m\n\u001b[1;32m    619\u001b[0m             \u001b[0;31m# but will fail when the index is not present\u001b[0m\u001b[0;34m\u001b[0m\u001b[0;34m\u001b[0m\u001b[0;34m\u001b[0m\u001b[0m\n\u001b[1;32m    620\u001b[0m             \u001b[0;31m# see GH5667\u001b[0m\u001b[0;34m\u001b[0m\u001b[0;34m\u001b[0m\u001b[0;34m\u001b[0m\u001b[0m\n\u001b[0;32m--> 621\u001b[0;31m             \u001b[0;32mreturn\u001b[0m \u001b[0mself\u001b[0m\u001b[0;34m.\u001b[0m\u001b[0mobj\u001b[0m\u001b[0;34m.\u001b[0m\u001b[0m_xs\u001b[0m\u001b[0;34m(\u001b[0m\u001b[0mlabel\u001b[0m\u001b[0;34m,\u001b[0m \u001b[0maxis\u001b[0m\u001b[0;34m=\u001b[0m\u001b[0maxis\u001b[0m\u001b[0;34m)\u001b[0m\u001b[0;34m\u001b[0m\u001b[0;34m\u001b[0m\u001b[0m\n\u001b[0m\u001b[1;32m    622\u001b[0m         \u001b[0;32melif\u001b[0m \u001b[0misinstance\u001b[0m\u001b[0;34m(\u001b[0m\u001b[0mlabel\u001b[0m\u001b[0;34m,\u001b[0m \u001b[0mtuple\u001b[0m\u001b[0;34m)\u001b[0m \u001b[0;32mand\u001b[0m \u001b[0misinstance\u001b[0m\u001b[0;34m(\u001b[0m\u001b[0mlabel\u001b[0m\u001b[0;34m[\u001b[0m\u001b[0maxis\u001b[0m\u001b[0;34m]\u001b[0m\u001b[0;34m,\u001b[0m \u001b[0mslice\u001b[0m\u001b[0;34m)\u001b[0m\u001b[0;34m:\u001b[0m\u001b[0;34m\u001b[0m\u001b[0;34m\u001b[0m\u001b[0m\n\u001b[1;32m    623\u001b[0m             \u001b[0;32mraise\u001b[0m \u001b[0mIndexingError\u001b[0m\u001b[0;34m(\u001b[0m\u001b[0;34m\"no slices here, handle elsewhere\"\u001b[0m\u001b[0;34m)\u001b[0m\u001b[0;34m\u001b[0m\u001b[0;34m\u001b[0m\u001b[0m\n",
      "\u001b[0;32m~/.local/lib/python3.8/site-packages/pandas/core/generic.py\u001b[0m in \u001b[0;36mxs\u001b[0;34m(self, key, axis, level, drop_level)\u001b[0m\n\u001b[1;32m   3512\u001b[0m         \u001b[0mName\u001b[0m\u001b[0;34m:\u001b[0m \u001b[0mnum_wings\u001b[0m\u001b[0;34m,\u001b[0m \u001b[0mdtype\u001b[0m\u001b[0;34m:\u001b[0m \u001b[0mint64\u001b[0m\u001b[0;34m\u001b[0m\u001b[0;34m\u001b[0m\u001b[0m\n\u001b[1;32m   3513\u001b[0m         \"\"\"\n\u001b[0;32m-> 3514\u001b[0;31m         \u001b[0maxis\u001b[0m \u001b[0;34m=\u001b[0m \u001b[0mself\u001b[0m\u001b[0;34m.\u001b[0m\u001b[0m_get_axis_number\u001b[0m\u001b[0;34m(\u001b[0m\u001b[0maxis\u001b[0m\u001b[0;34m)\u001b[0m\u001b[0;34m\u001b[0m\u001b[0;34m\u001b[0m\u001b[0m\n\u001b[0m\u001b[1;32m   3515\u001b[0m         \u001b[0mlabels\u001b[0m \u001b[0;34m=\u001b[0m \u001b[0mself\u001b[0m\u001b[0;34m.\u001b[0m\u001b[0m_get_axis\u001b[0m\u001b[0;34m(\u001b[0m\u001b[0maxis\u001b[0m\u001b[0;34m)\u001b[0m\u001b[0;34m\u001b[0m\u001b[0;34m\u001b[0m\u001b[0m\n\u001b[1;32m   3516\u001b[0m         \u001b[0;32mif\u001b[0m \u001b[0mlevel\u001b[0m \u001b[0;32mis\u001b[0m \u001b[0;32mnot\u001b[0m \u001b[0;32mNone\u001b[0m\u001b[0;34m:\u001b[0m\u001b[0;34m\u001b[0m\u001b[0;34m\u001b[0m\u001b[0m\n",
      "\u001b[0;31mKeyboardInterrupt\u001b[0m: "
     ]
    }
   ],
   "source": [
    "# POST1\n",
    "\n",
    "MEANS_IND = 0.020484822355039723\n",
    "\n",
    "#for q in [97,97.5,98, 98.5,99,99.5]:\n",
    "#for q in np.arange(98.5, 99.3, 0.1):\n",
    "for q in np.arange(60.0, 99.9, 3):\n",
    "# for q in [98, 98.9]:\n",
    "\n",
    "    LABELS = []\n",
    "    PREDS = []\n",
    "\n",
    "    for study in t.StudyInstanceUID.unique():\n",
    "        sops = agg.loc[study]\n",
    "        label = agg_one.loc[study]\n",
    "        label_is_pe = int((not label.indeterminate) and (not label.negative_exam_for_pe))\n",
    "        LABELS.append(label_is_pe)\n",
    "\n",
    "        prediction =  raw_pred.loc[sops]  # preds for current study\n",
    "\n",
    "        # pe pre\n",
    "        probs_pe_present = prediction.pe_present\n",
    "        probs_pe_present = calib_p(probs_pe_present)\n",
    "        pe_prob = post1(probs_pe_present, q=q)\n",
    "        PREDS.append(pe_prob)\n",
    "\n",
    "    print(f\"q={q:.2f} logloss:{log_loss(LABELS, PREDS)}\")\n"
   ]
  },
  {
   "cell_type": "code",
   "execution_count": null,
   "metadata": {},
   "outputs": [],
   "source": []
  },
  {
   "cell_type": "code",
   "execution_count": 59,
   "metadata": {
    "tags": []
   },
   "outputs": [
    {
     "output_type": "stream",
     "name": "stdout",
     "text": "q=98.00 logloss:0.383646086091538\nRIGHT\n    now  logloss:0.3451702421090064\n    past logloss:0.3617282748788149\n    base logloss:0.5762224411886869\nRIGHT\n   logloss:0.3214743942633246\n   logloss:0.3394795618701709\n   logloss:0.5300883358743675\nCENTRAL\n   logloss:0.1386441131671042\n   logloss:0.15336295710202394\n   logloss:0.23192769500092492\nq=98.90 logloss:0.374433233989411\nRIGHT\n    now  logloss:0.3451702421090064\n    past logloss:0.35746662291195486\n    base logloss:0.5762224411886869\nRIGHT\n   logloss:0.3214743942633246\n   logloss:0.3401054436957059\n   logloss:0.5300883358743675\nCENTRAL\n   logloss:0.1386441131671042\n   logloss:0.15980939159137056\n   logloss:0.23192769500092492\n"
    }
   ],
   "source": [
    "MEANS_IND = 0.020484822355039723\n",
    "\n",
    "#for q in [97,97.5,98, 98.5,99,99.5]:\n",
    "#for q in np.arange(98.5, 99.3, 0.1):\n",
    "#for q in np.arange(90.0, 99.9, 1):\n",
    "for q in [98, 98.9]:\n",
    "\n",
    "    LABELS = []\n",
    "    PREDS = []\n",
    "    LABELS_RIGHT = []\n",
    "    PREDS_RIGHT = []\n",
    "    PREDS_RIGHT2 = []\n",
    "    LABELS_LEFT= []\n",
    "    PREDS_LEFT = []\n",
    "    PREDS_LEFT2 = []\n",
    "    LABELS_CENT = []\n",
    "    PREDS_CENT = []\n",
    "    PREDS_CENT2 = []\n",
    "\n",
    "    for study in t.StudyInstanceUID.unique():\n",
    "        sops = agg.loc[study]\n",
    "        label = agg_one.loc[study]\n",
    "        label_is_pe = int((not label.indeterminate) and (not label.negative_exam_for_pe))\n",
    "        LABELS.append(label_is_pe)\n",
    "\n",
    "        LABELS_RIGHT.append(label.rightsided_pe)\n",
    "        LABELS_LEFT.append(label.leftsided_pe)\n",
    "        LABELS_CENT.append(label.central_pe)\n",
    "\n",
    "        prediction =  raw_pred.loc[sops]  # preds for current study\n",
    "        # pe pre\n",
    "        probs_pe_present = prediction.pe_present_on_image\n",
    "        pe_prob = post1(probs_pe_present, q=q)\n",
    "        PREDS.append(pe_prob)\n",
    "\n",
    "        ### rightsided\n",
    "        ave_right = np.clip( np.sum( prediction.rightsided_pe ) / np.sum( prediction.pe_present_on_image ), 0, 1)\n",
    "        ave_left  = np.clip( np.sum( prediction.leftsided_pe )  / np.sum( prediction.pe_present_on_image ), 0, 1)\n",
    "        ave_cent  = np.clip( np.sum( prediction.central_pe )    / np.sum( prediction.pe_present_on_image ), 0, 1)\n",
    "\n",
    "        if 0:\n",
    "            PREDS_RIGHT.append( (1-MEANS_IND) * pe_prob *  ave_right)\n",
    "            PREDS_LEFT.append ( (1-MEANS_IND) * pe_prob *  ave_left)\n",
    "            PREDS_CENT.append ( (1-MEANS_IND) * pe_prob *  ave_cent)\n",
    "        elif 0:\n",
    "            PREDS_RIGHT.append( pe_prob *  ave_right)\n",
    "            PREDS_LEFT.append ( pe_prob *  ave_left)\n",
    "            PREDS_CENT.append ( pe_prob *  ave_cent)\n",
    "        elif 0:\n",
    "            PREDS_RIGHT.append( (1-MEANS_IND) * np.percentile( prediction.rightsided_pe, 99 ) )\n",
    "            PREDS_LEFT .append( (1-MEANS_IND) * np.percentile( prediction.leftsided_pe, 99 ) )\n",
    "            PREDS_CENT .append( (1-MEANS_IND) * np.percentile( prediction.central_pe, 99 ) )\n",
    "        elif 1:\n",
    "            PREDS_RIGHT.append( np.percentile( prediction.rightsided_pe, 99 ) * 1.15 )\n",
    "            PREDS_LEFT .append( np.percentile( prediction.leftsided_pe, 99 )  * 1.15 )\n",
    "            PREDS_CENT .append( np.percentile( prediction.central_pe, 99 )    * 1.15 )\n",
    "\n",
    "        PREDS_RIGHT2.append( pe_prob * 0.849707702540123 + (1-pe_prob) * 0 )\n",
    "        PREDS_LEFT2.append ( pe_prob * 0.6957545475146886 + (1-pe_prob) * 0 )\n",
    "        PREDS_CENT2.append ( pe_prob * 0.1796915446534345 + (1-pe_prob) * 0 )\n",
    "\n",
    "        # print(study, label_is_pe, pe_prob)\n",
    "\n",
    "    print(f\"q={q:.2f} logloss:{log_loss(LABELS, PREDS)}\")\n",
    "\n",
    "    print(\"RIGHT\")\n",
    "    print(f\"    now  logloss:{log_loss(LABELS_RIGHT, PREDS_RIGHT)}\")\n",
    "    print(f\"    past logloss:{log_loss(LABELS_RIGHT, PREDS_RIGHT2)}\")\n",
    "    print(f\"    base logloss:{log_loss(LABELS_RIGHT, len(LABELS_RIGHT)*[np.mean(LABELS_RIGHT)] )}\")\n",
    "\n",
    "    print(\"LEFT\")\n",
    "    print(f\"   logloss:{log_loss(LABELS_LEFT, PREDS_LEFT)}\")\n",
    "    print(f\"   logloss:{log_loss(LABELS_LEFT, PREDS_LEFT2)}\")\n",
    "    print(f\"   logloss:{log_loss(LABELS_LEFT, len(LABELS_LEFT)*[np.mean(LABELS_LEFT)] )}\")\n",
    "\n",
    "    print(\"CENTRAL\")\n",
    "    print(f\"   logloss:{log_loss(LABELS_CENT, PREDS_CENT)}\")\n",
    "    print(f\"   logloss:{log_loss(LABELS_CENT, PREDS_CENT2)}\")\n",
    "    print(f\"   logloss:{log_loss(LABELS_CENT, len(LABELS_CENT)*[np.mean(LABELS_CENT)] )}\")\n"
   ]
  },
  {
   "cell_type": "code",
   "execution_count": 82,
   "metadata": {},
   "outputs": [
    {
     "output_type": "execute_result",
     "data": {
      "text/plain": "0.4547570238934727"
     },
     "metadata": {},
     "execution_count": 82
    }
   ],
   "source": [
    "log_loss(LABELS, PREDS)"
   ]
  },
  {
   "cell_type": "code",
   "execution_count": null,
   "metadata": {},
   "outputs": [],
   "source": [
    "MEANS_IND = 0.020484822355039723\n",
    "\n",
    "#for q in [97,97.5,98, 98.5,99,99.5]:\n",
    "#for q in np.arange(98.5, 99.3, 0.1):\n",
    "#for q in np.arange(90.0, 99.9, 1):\n",
    "for q in [98.9]:\n",
    "\n",
    "    LABELS = []\n",
    "    PREDS = []\n",
    "    LABELS_RIGHT = []\n",
    "    PREDS_RIGHT = []\n",
    "    PREDS_RIGHT2 = []\n",
    "    LABELS_LEFT= []\n",
    "    PREDS_LEFT = []\n",
    "    PREDS_LEFT2 = []\n",
    "    LABELS_CENT = []\n",
    "    PREDS_CENT = []\n",
    "    PREDS_CENT2 = []\n",
    "\n",
    "    for study in t.StudyInstanceUID.unique():\n",
    "        sops = agg.loc[study]\n",
    "        label = agg_one.loc[study]\n",
    "        label_is_pe = int((not label.indeterminate) and (not label.negative_exam_for_pe))\n",
    "        LABELS.append(label_is_pe)\n",
    "\n",
    "        LABELS_RIGHT.append(label.rightsided_pe)\n",
    "        LABELS_LEFT.append(label.leftsided_pe)\n",
    "        LABELS_CENT.append(label.central_pe)\n",
    "\n",
    "        prediction =  raw_pred.loc[sops]  # preds for current study\n",
    "        # pe pre\n",
    "        probs_pe_present = prediction.pe_present_on_image\n",
    "        pe_prob = post1(probs_pe_present, q=q)\n",
    "        PREDS.append(pe_prob)\n",
    "\n",
    "        ### rightsided\n",
    "        ave_right = np.clip( np.sum( prediction.rightsided_pe ) / np.sum( prediction.pe_present_on_image ), 0, 1)\n",
    "        ave_left  = np.clip( np.sum( prediction.leftsided_pe )  / np.sum( prediction.pe_present_on_image ), 0, 1)\n",
    "        ave_cent  = np.clip( np.sum( prediction.central_pe )    / np.sum( prediction.pe_present_on_image ), 0, 1)\n",
    "        # print(ave_right, label_is_right)\n",
    "        PREDS_RIGHT.append( (1-MEANS_IND) * pe_prob *  ave_right)\n",
    "        PREDS_LEFT.append( (1-MEANS_IND) * pe_prob *  ave_left)\n",
    "        PREDS_CENT.append( (1-MEANS_IND) * pe_prob *  ave_cent)\n",
    "\n",
    "        PREDS_RIGHT2.append( pe_prob * 0.849707702540123 + (1-pe_prob) * 0 )\n",
    "        PREDS_LEFT2.append( pe_prob * 0.6957545475146886 + (1-pe_prob) * 0 )\n",
    "        PREDS_CENT2.append( pe_prob * 0.1796915446534345 + (1-pe_prob) * 0 )\n",
    "\n",
    "        # print(study, label_is_pe, pe_prob)\n",
    "\n",
    "    print(f\"q={q:.2f} logloss:{log_loss(LABELS, PREDS)}\")\n",
    "\n",
    "    print(f\"q={q:.2f} rifht now  logloss:{log_loss(LABELS_RIGHT, PREDS_RIGHT)}\")\n",
    "    print(f\"q={q:.2f} right past logloss:{log_loss(LABELS_RIGHT, PREDS_RIGHT2)}\")\n",
    "    print(f\"q={q:.2f} super base logloss:{log_loss(LABELS_RIGHT, len(LABELS_RIGHT)*[np.mean(LABELS_RIGHT)] )}\")\n",
    "\n",
    "    print(\"RIGHT\")\n",
    "    print(f\"   logloss:{log_loss(LABELS_RIGHT, PREDS_RIGHT)}\")\n",
    "    print(f\"   logloss:{log_loss(LABELS_RIGHT, PREDS_RIGHT2)}\")\n",
    "    print(f\"   logloss:{log_loss(LABELS_RIGHT, len(LABELS_RIGHT)*[np.mean(LABELS_RIGHT)] )}\")\n",
    "\n",
    "    print(f\"q={q:.2f} rifht now  logloss:{log_loss(LABELS_RIGHT, PREDS_RIGHT)}\")\n",
    "    print(f\"q={q:.2f} right past logloss:{log_loss(LABELS_RIGHT, PREDS_RIGHT2)}\")\n",
    "    print(f\"q={q:.2f} super base logloss:{log_loss(LABELS_RIGHT, len(LABELS_RIGHT)*[np.mean(LABELS_RIGHT)] )}\")\n"
   ]
  }
 ]
}
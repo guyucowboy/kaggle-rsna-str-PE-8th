{
 "metadata": {
  "language_info": {
   "codemirror_mode": {
    "name": "ipython",
    "version": 3
   },
   "file_extension": ".py",
   "mimetype": "text/x-python",
   "name": "python",
   "nbconvert_exporter": "python",
   "pygments_lexer": "ipython3",
   "version": "3.8.2-final"
  },
  "orig_nbformat": 2,
  "kernelspec": {
   "name": "python_defaultSpec_1600867962321",
   "display_name": "Python 3.8.2 64-bit"
  }
 },
 "nbformat": 4,
 "nbformat_minor": 2,
 "cells": [
  {
   "cell_type": "code",
   "execution_count": 25,
   "metadata": {},
   "outputs": [],
   "source": [
    "from pathlib import Path\n",
    "import pandas as pd\n",
    "import numpy as np\n",
    "import seaborn as sns\n",
    "import matplotlib.pyplot as plt\n",
    "from glob import glob\n",
    "import cv2"
   ]
  },
  {
   "cell_type": "code",
   "execution_count": 5,
   "metadata": {},
   "outputs": [],
   "source": [
    "DATADIR = Path(\"../input/rsna-str-pulmonary-embolism-detection/\")\n",
    "\n",
    "train = pd.read_csv(DATADIR / \"train.csv\")\n",
    "pre = pd.read_csv(DATADIR / \"split.csv\")\n",
    "train = train.merge(pre, on=\"StudyInstanceUID\")"
   ]
  },
  {
   "cell_type": "code",
   "execution_count": 78,
   "metadata": {},
   "outputs": [],
   "source": [
    "df = train[train.fold == 0]\n",
    "pos = df.query(\"indeterminate==1\").StudyInstanceUID.unique()[:100]\n",
    "neg = df.query(\"indeterminate==0\").StudyInstanceUID.unique()[:100]\n",
    "\n",
    "pos_contrast = df.query(\"qa_contrast==1\").StudyInstanceUID.unique()[:100]\n",
    "pos_motion   = df.query(\"qa_motion==1\").StudyInstanceUID.unique()[:100]"
   ]
  },
  {
   "cell_type": "code",
   "execution_count": 69,
   "metadata": {
    "tags": []
   },
   "outputs": [],
   "source": [
    "_df = df.set_index(\"StudyInstanceUID\")\n",
    "def get_images(study):\n",
    "    r = df[df.StudyInstanceUID == study]\n",
    "    seri = r.SeriesInstanceUID.unique()[0]\n",
    "    # print(str(DATADIR / \"train-jpegs\" / study / seri / \"*.jpg\"))\n",
    "    imgs = glob(str(DATADIR / \"train-jpegs\" / study / seri / \"*.jpg\"))\n",
    "    imgs = [cv2.imread(path)[:,:,1] for path in imgs]  # 2:lung 1:PE window only\n",
    "    return imgs\n",
    "\n",
    "a = get_images(pos[0])  "
   ]
  },
  {
   "cell_type": "code",
   "execution_count": 70,
   "metadata": {},
   "outputs": [],
   "source": [
    "def calc_faet(imgs):\n",
    "    f = []\n",
    "    for i in imgs:\n",
    "        f1 = np.percentile(i, 97)\n",
    "        f.append(f1)\n",
    "    return np.mean(f)"
   ]
  },
  {
   "cell_type": "code",
   "execution_count": 71,
   "metadata": {
    "tags": []
   },
   "outputs": [],
   "source": [
    "feat_pos = []\n",
    "feat_neg = []\n",
    "\n",
    "for s in pos[:10]:\n",
    "    imgs = get_images(s)\n",
    "    feat_pos.append(calc_faet(imgs))\n",
    "\n",
    "for s in neg[:10]:\n",
    "    imgs = get_images(s)\n",
    "    feat_neg .append(calc_faet(imgs))"
   ]
  },
  {
   "cell_type": "code",
   "execution_count": 72,
   "metadata": {},
   "outputs": [
    {
     "output_type": "execute_result",
     "data": {
      "text/plain": "[178.71224489795907,\n 160.2606796116504,\n 201.7565972222222,\n 182.76458333333326,\n 167.96410788381726,\n 186.89386792452817,\n 174.2558375634516,\n 144.95988142292487,\n 186.86703056768548,\n 163.51877394636003]"
     },
     "metadata": {},
     "execution_count": 72
    }
   ],
   "source": [
    "feat_pos"
   ]
  },
  {
   "cell_type": "code",
   "execution_count": 73,
   "metadata": {},
   "outputs": [
    {
     "output_type": "execute_result",
     "data": {
      "text/plain": "[160.04714285714283,\n 160.66666666666666,\n 173.125,\n 159.66068965517232,\n 148.05860927152312,\n 176.47155172413778,\n 153.61241610738244,\n 158.0359195402298,\n 176.5021505376342,\n 172.53670520231208]"
     },
     "metadata": {},
     "execution_count": 73
    }
   ],
   "source": [
    "feat_neg"
   ]
  },
  {
   "cell_type": "code",
   "execution_count": 55,
   "metadata": {},
   "outputs": [
    {
     "output_type": "execute_result",
     "data": {
      "text/plain": "array(['d9db1fa210c2', 'de9e82cbd095', '864f3b012500', '6df74ad90858',\n       'b54577d463c5', 'a72117292191', '53749b031e34', '88372a2ddb31',\n       'd386eb7f09cf', '2974cff17c16', '2032a7408cc0', '94a5a995efab',\n       '150dca1803c3', 'cfdf31b8f1c0', '772796359d14', 'd9e7f4891acd',\n       'af78ce88506c', '6bd08ce5bef4', '5b757365c206', '453c2bce0c3b',\n       '609f7ad093a7', '4b6da2108b25', '6fd899db9ee1', 'cc802b11c9c8',\n       '129742ed455f', '2bc52c1fb4fe', '94ab83ad219b', '7699a7daaba4',\n       '53e3359d15c8', '06161d46339a', '20d83999a3a1'], dtype=object)"
     },
     "metadata": {},
     "execution_count": 55
    }
   ],
   "source": [
    "pos"
   ]
  },
  {
   "cell_type": "code",
   "execution_count": 76,
   "metadata": {
    "tags": []
   },
   "outputs": [],
   "source": [
    "for p in pos:\n",
    "    os.system(\"cp -ir /home/haito/kaggle/rsna-str/input/rsna-str-pulmonary-embolism-detection/train-jpegs/%s /home/haito/Desktop/TMP/ind_pos\" % p)"
   ]
  },
  {
   "cell_type": "code",
   "execution_count": 77,
   "metadata": {},
   "outputs": [],
   "source": [
    "for p in neg:\n",
    "    os.system(\"cp -ir /home/haito/kaggle/rsna-str/input/rsna-str-pulmonary-embolism-detection/train-jpegs/%s /home/haito/Desktop/TMP/ind_neg\" % p)"
   ]
  },
  {
   "cell_type": "code",
   "execution_count": null,
   "metadata": {},
   "outputs": [],
   "source": [
    "def write_lung(img, dst):\n",
    "    "
   ]
  },
  {
   "cell_type": "code",
   "execution_count": 80,
   "metadata": {},
   "outputs": [],
   "source": [
    "for p in pos_contrast:\n",
    "    os.system(\"cp -ir /home/haito/kaggle/rsna-str/input/rsna-str-pulmonary-embolism-detection/train-jpegs/%s /home/haito/Desktop/TMP/ind_pos_contrast\" % p)"
   ]
  },
  {
   "cell_type": "code",
   "execution_count": 81,
   "metadata": {},
   "outputs": [],
   "source": [
    "for p in pos_motion:\n",
    "    os.system(\"cp -ir /home/haito/kaggle/rsna-str/input/rsna-str-pulmonary-embolism-detection/train-jpegs/%s /home/haito/Desktop/TMP/ind_pos_motion\" % p)"
   ]
  },
  {
   "cell_type": "code",
   "execution_count": 82,
   "metadata": {},
   "outputs": [
    {
     "output_type": "execute_result",
     "data": {
      "text/plain": "array(['d9db1fa210c2', '864f3b012500', '88372a2ddb31', '2974cff17c16',\n       '2032a7408cc0', '150dca1803c3', '772796359d14', 'd9e7f4891acd',\n       '6bd08ce5bef4', 'cc802b11c9c8', '53e3359d15c8', '06161d46339a',\n       '20d83999a3a1'], dtype=object)"
     },
     "metadata": {},
     "execution_count": 82
    }
   ],
   "source": [
    "pos_motion"
   ]
  },
  {
   "cell_type": "code",
   "execution_count": null,
   "metadata": {},
   "outputs": [],
   "source": []
  }
 ]
}